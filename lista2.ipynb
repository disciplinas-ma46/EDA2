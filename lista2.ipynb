{
 "cells": [
  {
   "cell_type": "code",
   "execution_count": 112,
   "metadata": {},
   "outputs": [
    {
     "name": "stdout",
     "output_type": "stream",
     "text": [
      "[1, 2, 3, 4, 5, 6, 7, 8, 9, 10, 11, 12, 13, 14, 15, 16, 17, 18, 19, 20, 21, 22, 23, 24, 25, 26, 27, 28, 29, 30, 31, 32, 33, 34, 35, 36, 37, 38, 39, 40]\n",
      "[75, 20, 15, 11, 79, 44, 73, 26, 74, 1, 5, 70, 61, 10, 32, 42, 8, 64, 76, 57, 46, 12, 16, 78, 30, 6, 69, 23, 13, 17, 63, 62, 27, 47, 31, 56, 24, 59, 52, 43]\n",
      "[6, 2, 4, 77, 67, 48, 31, 38, 39, 32, 68, 58, 45, 9, 36, 30, 65, 53, 61, 23, 27, 60, 49, 3, 37, 33, 72, 73, 8, 63, 54, 35, 52, 75, 44, 76, 25, 26, 51, 22]\n"
     ]
    }
   ],
   "source": [
    "%matplotlib inline\n",
    "\n",
    "from IPython.display import clear_output\n",
    "import random\n",
    "import matplotlib.pyplot as plt\n",
    "import time\n",
    "\n",
    "size = 40\n",
    "list_insertion_sort = []\n",
    "list_selection_sort = []\n",
    "max_number = 80\n",
    "x_axis = []\n",
    "\n",
    "for i in range(1, size + 1, 1):\n",
    "    x_axis.append(i)\n",
    "    \n",
    "print(x_axis)\n",
    "\n",
    "#  funções\n",
    "def gen_random_list():\n",
    "    return random.sample(range(1, max_number), size)\n",
    "\n",
    "list_insertion_sort = gen_random_list()\n",
    "list_selection_sort = gen_random_list()\n",
    "\n",
    "print(list_insertion_sort)\n",
    "print(list_selection_sort)"
   ]
  },
  {
   "cell_type": "code",
   "execution_count": 113,
   "metadata": {},
   "outputs": [],
   "source": [
    "def gen_graph(list, title):\n",
    "    plt.cla()\n",
    "    plt.clf()\n",
    "    plt.plot(x_axis, list, 'ro')\n",
    "    plt.show()\n",
    "    plt.clf()\n",
    "    plt.close"
   ]
  },
  {
   "cell_type": "code",
   "execution_count": 90,
   "metadata": {},
   "outputs": [],
   "source": [
    "def change_position (lista, val1, val2):\n",
    "    lista[val1], lista[val2] = lista[val2], lista[val1]"
   ]
  },
  {
   "cell_type": "code",
   "execution_count": 108,
   "metadata": {},
   "outputs": [],
   "source": [
    "def selection_sort(list):\n",
    "    for i in range(0, len(list), 1):\n",
    "        for j in range(i, len(list), 1):\n",
    "            if(list[j] < list[i]):\n",
    "                change_position(list, i,j)\n",
    "        gen_graph(list, \"Selection Sort\")\n",
    "        time.sleep(0.4)\n",
    "        clear_output()"
   ]
  },
  {
   "cell_type": "code",
   "execution_count": 109,
   "metadata": {},
   "outputs": [
    {
     "name": "stdout",
     "output_type": "stream",
     "text": [
      "[3, 6, 7, 8, 9, 11, 12, 13, 14, 15, 17, 19, 20, 22, 23, 24, 26, 27, 29, 30, 31, 32, 33, 36, 37, 38, 39, 41, 44, 45, 49, 51, 52, 53, 54, 55, 60, 63, 64, 65, 69, 70, 71, 74, 77, 81, 82, 83, 84, 85, 86, 87, 89, 90, 91, 95, 96, 97, 98, 99]\n"
     ]
    },
    {
     "data": {
      "text/plain": [
       "<Figure size 432x288 with 0 Axes>"
      ]
     },
     "metadata": {},
     "output_type": "display_data"
    }
   ],
   "source": [
    "selection_sort(list_selection_sort)\n",
    "\n",
    "print(list_selection_sort)"
   ]
  },
  {
   "cell_type": "code",
   "execution_count": 114,
   "metadata": {},
   "outputs": [],
   "source": [
    "\n",
    "def insertion_sort(list):\n",
    "    aux = list[1]\n",
    "    pos_aux = 1\n",
    "    i = 0\n",
    "\n",
    "    while(True):\n",
    "        i = pos_aux\n",
    "        while(aux < list[i - 1] and i != 0):\n",
    "            change_position(list, i, i-1)\n",
    "            i -= 1\n",
    "            gen_graph(list, \"Insertion Sort\")\n",
    "            time.sleep(0.4)\n",
    "            clear_output()\n",
    "            \n",
    "        if(pos_aux != len(list) - 1):\n",
    "            pos_aux += 1\n",
    "            aux = list[pos_aux]\n",
    "        else:\n",
    "            break"
   ]
  },
  {
   "cell_type": "code",
   "execution_count": null,
   "metadata": {},
   "outputs": [],
   "source": [
    "print(list_insertion_sort)\n",
    "\n",
    "insertion_sort(list_insertion_sort)\n",
    "\n",
    "print(list_insertion_sort)"
   ]
  }
 ],
 "metadata": {
  "kernelspec": {
   "display_name": "Python 3",
   "language": "python",
   "name": "python3"
  },
  "language_info": {
   "codemirror_mode": {
    "name": "ipython",
    "version": 3
   },
   "file_extension": ".py",
   "mimetype": "text/x-python",
   "name": "python",
   "nbconvert_exporter": "python",
   "pygments_lexer": "ipython3",
   "version": "3.5.2"
  }
 },
 "nbformat": 4,
 "nbformat_minor": 2
}
